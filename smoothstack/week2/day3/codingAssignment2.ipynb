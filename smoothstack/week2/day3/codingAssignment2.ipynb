{
 "cells": [
  {
   "cell_type": "code",
   "execution_count": 156,
   "id": "adapted-following",
   "metadata": {},
   "outputs": [],
   "source": [
    "import pandas as pd\n",
    "import numpy as np\n",
    "import re\n",
    "\n"
   ]
  },
  {
   "cell_type": "code",
   "execution_count": 45,
   "id": "according-biotechnology",
   "metadata": {},
   "outputs": [
    {
     "data": {
      "text/plain": [
       "Index(['Id', 'EmployeeName', 'JobTitle', 'BasePay', 'OvertimePay', 'OtherPay',\n",
       "       'Benefits', 'TotalPay', 'TotalPayBenefits', 'Year', 'Notes', 'Agency',\n",
       "       'Status'],\n",
       "      dtype='object')"
      ]
     },
     "execution_count": 45,
     "metadata": {},
     "output_type": "execute_result"
    }
   ],
   "source": [
    "df = pd.read_csv(\"Salaries.csv\",low_memory=False)\n",
    "# Check and display the head of the DataFrame.\n",
    "df.columns"
   ]
  },
  {
   "cell_type": "code",
   "execution_count": 30,
   "id": "progressive-objective",
   "metadata": {},
   "outputs": [
    {
     "name": "stdout",
     "output_type": "stream",
     "text": [
      "<class 'pandas.core.frame.DataFrame'>\n",
      "RangeIndex: 148654 entries, 0 to 148653\n",
      "Columns: 13 entries, Id to Status\n",
      "dtypes: float64(3), int64(2), object(8)\n",
      "memory usage: 14.7+ MB\n"
     ]
    }
   ],
   "source": [
    "# Use the .info() method to find out how many entries there are.\n",
    "df.info(verbose=False)"
   ]
  },
  {
   "cell_type": "code",
   "execution_count": 61,
   "id": "accepted-spencer",
   "metadata": {},
   "outputs": [
    {
     "data": {
      "text/plain": [
       "112236.757339"
      ]
     },
     "execution_count": 61,
     "metadata": {},
     "output_type": "execute_result"
    }
   ],
   "source": [
    "# What is the average of first 10000 items in BasePay ?\n",
    "df2= df.head(10000)\n",
    "df3 = df2[\"BasePay\"].astype(float)\n",
    "df3.mean()\n"
   ]
  },
  {
   "cell_type": "code",
   "execution_count": 109,
   "id": "celtic-laugh",
   "metadata": {},
   "outputs": [
    {
     "data": {
      "text/plain": [
       "567595.43"
      ]
     },
     "execution_count": 109,
     "metadata": {},
     "output_type": "execute_result"
    }
   ],
   "source": [
    "# What is the highest amount of TotalPayBenefits in the dataset ?\n",
    "df[\"TotalPayBenefits\"].max()"
   ]
  },
  {
   "cell_type": "code",
   "execution_count": 175,
   "id": "annual-dependence",
   "metadata": {},
   "outputs": [
    {
     "data": {
      "text/plain": [
       "24    CAPTAIN, FIRE SUPPRESSION\n",
       "Name: JobTitle, dtype: object"
      ]
     },
     "execution_count": 175,
     "metadata": {},
     "output_type": "execute_result"
    }
   ],
   "source": [
    "# What is the job title of JOSEPH DRISCOLL ?\n",
    "df6 = df2.loc[df2[\"EmployeeName\"] == 'JOSEPH DRISCOLL']\n",
    "df6[\"JobTitle\"].values[0]\n"
   ]
  },
  {
   "cell_type": "code",
   "execution_count": 174,
   "id": "otherwise-bidding",
   "metadata": {},
   "outputs": [
    {
     "data": {
      "text/plain": [
       "270324.91"
      ]
     },
     "execution_count": 174,
     "metadata": {},
     "output_type": "execute_result"
    }
   ],
   "source": [
    "# How much does JOSEPH DRISCOLL make (including benefits)?\n",
    "df6[\"TotalPayBenefits\"].values[0]"
   ]
  },
  {
   "cell_type": "code",
   "execution_count": 96,
   "id": "timely-invasion",
   "metadata": {},
   "outputs": [
    {
     "data": {
      "text/plain": [
       "'NATHANIEL FORD'"
      ]
     },
     "execution_count": 96,
     "metadata": {},
     "output_type": "execute_result"
    }
   ],
   "source": [
    "# What is the name of highest paid person (including benefits)?\n",
    "\n",
    "df7 = df2.loc[df2[\"TotalPayBenefits\"] == 567595.43]\n",
    "df7[\"EmployeeName\"].values[0]"
   ]
  },
  {
   "cell_type": "code",
   "execution_count": 111,
   "id": "moving-weapon",
   "metadata": {},
   "outputs": [
    {
     "data": {
      "text/plain": [
       "'Joe Lopez'"
      ]
     },
     "execution_count": 111,
     "metadata": {},
     "output_type": "execute_result"
    }
   ],
   "source": [
    "# What is the name of lowest paid person (including benefits)? Do you notice something\n",
    "# strange about how much he or she is paid?\n",
    "x = df[\"TotalPayBenefits\"].min()\n",
    "df8 = df.loc[df[\"TotalPayBenefits\"] == x]\n",
    "df8[\"EmployeeName\"].values[0]\n"
   ]
  },
  {
   "cell_type": "code",
   "execution_count": 112,
   "id": "dental-fraud",
   "metadata": {},
   "outputs": [
    {
     "data": {
      "text/plain": [
       "-618.13"
      ]
     },
     "execution_count": 112,
     "metadata": {},
     "output_type": "execute_result"
    }
   ],
   "source": [
    "df8[\"TotalPayBenefits\"].values[0]"
   ]
  },
  {
   "cell_type": "code",
   "execution_count": 177,
   "id": "opening-disclaimer",
   "metadata": {},
   "outputs": [
    {
     "data": {
      "text/html": [
       "<div>\n",
       "<style scoped>\n",
       "    .dataframe tbody tr th:only-of-type {\n",
       "        vertical-align: middle;\n",
       "    }\n",
       "\n",
       "    .dataframe tbody tr th {\n",
       "        vertical-align: top;\n",
       "    }\n",
       "\n",
       "    .dataframe thead th {\n",
       "        text-align: right;\n",
       "    }\n",
       "</style>\n",
       "<table border=\"1\" class=\"dataframe\">\n",
       "  <thead>\n",
       "    <tr style=\"text-align: right;\">\n",
       "      <th></th>\n",
       "      <th>Id</th>\n",
       "      <th>TotalPay</th>\n",
       "      <th>TotalPayBenefits</th>\n",
       "      <th>Notes</th>\n",
       "    </tr>\n",
       "    <tr>\n",
       "      <th>Year</th>\n",
       "      <th></th>\n",
       "      <th></th>\n",
       "      <th></th>\n",
       "      <th></th>\n",
       "    </tr>\n",
       "  </thead>\n",
       "  <tbody>\n",
       "    <tr>\n",
       "      <th>2011</th>\n",
       "      <td>18080.0</td>\n",
       "      <td>71744.103871</td>\n",
       "      <td>71744.103871</td>\n",
       "      <td>NaN</td>\n",
       "    </tr>\n",
       "    <tr>\n",
       "      <th>2012</th>\n",
       "      <td>54542.5</td>\n",
       "      <td>74113.262265</td>\n",
       "      <td>100553.229232</td>\n",
       "      <td>NaN</td>\n",
       "    </tr>\n",
       "    <tr>\n",
       "      <th>2013</th>\n",
       "      <td>91728.5</td>\n",
       "      <td>77611.443142</td>\n",
       "      <td>101440.519714</td>\n",
       "      <td>NaN</td>\n",
       "    </tr>\n",
       "    <tr>\n",
       "      <th>2014</th>\n",
       "      <td>129593.0</td>\n",
       "      <td>75463.918140</td>\n",
       "      <td>100250.918884</td>\n",
       "      <td>NaN</td>\n",
       "    </tr>\n",
       "  </tbody>\n",
       "</table>\n",
       "</div>"
      ],
      "text/plain": [
       "            Id      TotalPay  TotalPayBenefits  Notes\n",
       "Year                                                 \n",
       "2011   18080.0  71744.103871      71744.103871    NaN\n",
       "2012   54542.5  74113.262265     100553.229232    NaN\n",
       "2013   91728.5  77611.443142     101440.519714    NaN\n",
       "2014  129593.0  75463.918140     100250.918884    NaN"
      ]
     },
     "execution_count": 177,
     "metadata": {},
     "output_type": "execute_result"
    }
   ],
   "source": [
    "# What was the average (mean) TotalPay of all employees per year? (2011-2014) ?\n",
    "df9 = df.groupby(\"Year\").mean(\"TotalPay\")\n",
    "df9"
   ]
  },
  {
   "cell_type": "code",
   "execution_count": 119,
   "id": "varied-happening",
   "metadata": {},
   "outputs": [
    {
     "data": {
      "text/plain": [
       "2159"
      ]
     },
     "execution_count": 119,
     "metadata": {},
     "output_type": "execute_result"
    }
   ],
   "source": [
    "# How many unique job titles are there?\n",
    "df10 = df[\"JobTitle\"]\n",
    "df11 = df10.nunique()\n",
    "df11"
   ]
  },
  {
   "cell_type": "code",
   "execution_count": 151,
   "id": "emerging-booking",
   "metadata": {},
   "outputs": [
    {
     "data": {
      "text/plain": [
       "Transit Operator                7036\n",
       "Special Nurse                   4389\n",
       "Registered Nurse                3736\n",
       "Public Svc Aide-Public Works    2518\n",
       "Police Officer 3                2421\n",
       "Custodian                       2418\n",
       "TRANSIT OPERATOR                2388\n",
       "Name: JobTitle, dtype: int64"
      ]
     },
     "execution_count": 151,
     "metadata": {},
     "output_type": "execute_result"
    }
   ],
   "source": [
    "# What are the top 7 most common jobs?\n",
    "df10 = df[\"JobTitle\"]\n",
    "df12 =df10.value_counts()\n",
    "df12.sort_values(ascending=False).head(7)"
   ]
  },
  {
   "cell_type": "code",
   "execution_count": 259,
   "id": "indonesian-sterling",
   "metadata": {},
   "outputs": [
    {
     "data": {
      "text/html": [
       "<div>\n",
       "<style scoped>\n",
       "    .dataframe tbody tr th:only-of-type {\n",
       "        vertical-align: middle;\n",
       "    }\n",
       "\n",
       "    .dataframe tbody tr th {\n",
       "        vertical-align: top;\n",
       "    }\n",
       "\n",
       "    .dataframe thead th {\n",
       "        text-align: right;\n",
       "    }\n",
       "</style>\n",
       "<table border=\"1\" class=\"dataframe\">\n",
       "  <thead>\n",
       "    <tr style=\"text-align: right;\">\n",
       "      <th></th>\n",
       "      <th>Id</th>\n",
       "      <th>EmployeeName</th>\n",
       "      <th>BasePay</th>\n",
       "      <th>OvertimePay</th>\n",
       "      <th>OtherPay</th>\n",
       "      <th>Benefits</th>\n",
       "      <th>TotalPay</th>\n",
       "      <th>TotalPayBenefits</th>\n",
       "      <th>Year</th>\n",
       "      <th>Notes</th>\n",
       "      <th>Agency</th>\n",
       "      <th>Status</th>\n",
       "    </tr>\n",
       "    <tr>\n",
       "      <th>JobTitle</th>\n",
       "      <th></th>\n",
       "      <th></th>\n",
       "      <th></th>\n",
       "      <th></th>\n",
       "      <th></th>\n",
       "      <th></th>\n",
       "      <th></th>\n",
       "      <th></th>\n",
       "      <th></th>\n",
       "      <th></th>\n",
       "      <th></th>\n",
       "      <th></th>\n",
       "    </tr>\n",
       "  </thead>\n",
       "  <tbody>\n",
       "    <tr>\n",
       "      <th>ASR Senior Office Specialist</th>\n",
       "      <td>21</td>\n",
       "      <td>21</td>\n",
       "      <td>21</td>\n",
       "      <td>21</td>\n",
       "      <td>21</td>\n",
       "      <td>21</td>\n",
       "      <td>21</td>\n",
       "      <td>21</td>\n",
       "      <td>21</td>\n",
       "      <td>0</td>\n",
       "      <td>21</td>\n",
       "      <td>0</td>\n",
       "    </tr>\n",
       "    <tr>\n",
       "      <th>ASR-Office Assistant</th>\n",
       "      <td>15</td>\n",
       "      <td>15</td>\n",
       "      <td>15</td>\n",
       "      <td>15</td>\n",
       "      <td>15</td>\n",
       "      <td>15</td>\n",
       "      <td>15</td>\n",
       "      <td>15</td>\n",
       "      <td>15</td>\n",
       "      <td>0</td>\n",
       "      <td>15</td>\n",
       "      <td>0</td>\n",
       "    </tr>\n",
       "    <tr>\n",
       "      <th>Account Clerk</th>\n",
       "      <td>90</td>\n",
       "      <td>90</td>\n",
       "      <td>87</td>\n",
       "      <td>90</td>\n",
       "      <td>90</td>\n",
       "      <td>90</td>\n",
       "      <td>90</td>\n",
       "      <td>90</td>\n",
       "      <td>90</td>\n",
       "      <td>0</td>\n",
       "      <td>90</td>\n",
       "      <td>0</td>\n",
       "    </tr>\n",
       "    <tr>\n",
       "      <th>Accountant I</th>\n",
       "      <td>3</td>\n",
       "      <td>3</td>\n",
       "      <td>3</td>\n",
       "      <td>3</td>\n",
       "      <td>3</td>\n",
       "      <td>3</td>\n",
       "      <td>3</td>\n",
       "      <td>3</td>\n",
       "      <td>3</td>\n",
       "      <td>0</td>\n",
       "      <td>3</td>\n",
       "      <td>0</td>\n",
       "    </tr>\n",
       "    <tr>\n",
       "      <th>Accountant II</th>\n",
       "      <td>77</td>\n",
       "      <td>77</td>\n",
       "      <td>77</td>\n",
       "      <td>77</td>\n",
       "      <td>77</td>\n",
       "      <td>77</td>\n",
       "      <td>77</td>\n",
       "      <td>77</td>\n",
       "      <td>77</td>\n",
       "      <td>0</td>\n",
       "      <td>77</td>\n",
       "      <td>0</td>\n",
       "    </tr>\n",
       "    <tr>\n",
       "      <th>...</th>\n",
       "      <td>...</td>\n",
       "      <td>...</td>\n",
       "      <td>...</td>\n",
       "      <td>...</td>\n",
       "      <td>...</td>\n",
       "      <td>...</td>\n",
       "      <td>...</td>\n",
       "      <td>...</td>\n",
       "      <td>...</td>\n",
       "      <td>...</td>\n",
       "      <td>...</td>\n",
       "      <td>...</td>\n",
       "    </tr>\n",
       "    <tr>\n",
       "      <th>Wire Rope Cable Maint Sprv</th>\n",
       "      <td>1</td>\n",
       "      <td>1</td>\n",
       "      <td>1</td>\n",
       "      <td>1</td>\n",
       "      <td>1</td>\n",
       "      <td>1</td>\n",
       "      <td>1</td>\n",
       "      <td>1</td>\n",
       "      <td>1</td>\n",
       "      <td>0</td>\n",
       "      <td>1</td>\n",
       "      <td>0</td>\n",
       "    </tr>\n",
       "    <tr>\n",
       "      <th>Worker's Comp Supervisor 1</th>\n",
       "      <td>3</td>\n",
       "      <td>3</td>\n",
       "      <td>3</td>\n",
       "      <td>3</td>\n",
       "      <td>3</td>\n",
       "      <td>3</td>\n",
       "      <td>3</td>\n",
       "      <td>3</td>\n",
       "      <td>3</td>\n",
       "      <td>0</td>\n",
       "      <td>3</td>\n",
       "      <td>0</td>\n",
       "    </tr>\n",
       "    <tr>\n",
       "      <th>Worker's Compensation Adjuster</th>\n",
       "      <td>25</td>\n",
       "      <td>25</td>\n",
       "      <td>25</td>\n",
       "      <td>25</td>\n",
       "      <td>25</td>\n",
       "      <td>25</td>\n",
       "      <td>25</td>\n",
       "      <td>25</td>\n",
       "      <td>25</td>\n",
       "      <td>0</td>\n",
       "      <td>25</td>\n",
       "      <td>0</td>\n",
       "    </tr>\n",
       "    <tr>\n",
       "      <th>X-Ray Laboratory Aide</th>\n",
       "      <td>34</td>\n",
       "      <td>34</td>\n",
       "      <td>34</td>\n",
       "      <td>34</td>\n",
       "      <td>34</td>\n",
       "      <td>34</td>\n",
       "      <td>34</td>\n",
       "      <td>34</td>\n",
       "      <td>34</td>\n",
       "      <td>0</td>\n",
       "      <td>34</td>\n",
       "      <td>0</td>\n",
       "    </tr>\n",
       "    <tr>\n",
       "      <th>Youth Comm Advisor</th>\n",
       "      <td>2</td>\n",
       "      <td>2</td>\n",
       "      <td>2</td>\n",
       "      <td>2</td>\n",
       "      <td>2</td>\n",
       "      <td>2</td>\n",
       "      <td>2</td>\n",
       "      <td>2</td>\n",
       "      <td>2</td>\n",
       "      <td>0</td>\n",
       "      <td>2</td>\n",
       "      <td>0</td>\n",
       "    </tr>\n",
       "  </tbody>\n",
       "</table>\n",
       "<p>1051 rows × 12 columns</p>\n",
       "</div>"
      ],
      "text/plain": [
       "                                Id  EmployeeName  BasePay  OvertimePay  \\\n",
       "JobTitle                                                                 \n",
       "ASR Senior Office Specialist    21            21       21           21   \n",
       "ASR-Office Assistant            15            15       15           15   \n",
       "Account Clerk                   90            90       87           90   \n",
       "Accountant I                     3             3        3            3   \n",
       "Accountant II                   77            77       77           77   \n",
       "...                             ..           ...      ...          ...   \n",
       "Wire Rope Cable Maint Sprv       1             1        1            1   \n",
       "Worker's Comp Supervisor 1       3             3        3            3   \n",
       "Worker's Compensation Adjuster  25            25       25           25   \n",
       "X-Ray Laboratory Aide           34            34       34           34   \n",
       "Youth Comm Advisor               2             2        2            2   \n",
       "\n",
       "                                OtherPay  Benefits  TotalPay  \\\n",
       "JobTitle                                                       \n",
       "ASR Senior Office Specialist          21        21        21   \n",
       "ASR-Office Assistant                  15        15        15   \n",
       "Account Clerk                         90        90        90   \n",
       "Accountant I                           3         3         3   \n",
       "Accountant II                         77        77        77   \n",
       "...                                  ...       ...       ...   \n",
       "Wire Rope Cable Maint Sprv             1         1         1   \n",
       "Worker's Comp Supervisor 1             3         3         3   \n",
       "Worker's Compensation Adjuster        25        25        25   \n",
       "X-Ray Laboratory Aide                 34        34        34   \n",
       "Youth Comm Advisor                     2         2         2   \n",
       "\n",
       "                                TotalPayBenefits  Year  Notes  Agency  Status  \n",
       "JobTitle                                                                       \n",
       "ASR Senior Office Specialist                  21    21      0      21       0  \n",
       "ASR-Office Assistant                          15    15      0      15       0  \n",
       "Account Clerk                                 90    90      0      90       0  \n",
       "Accountant I                                   3     3      0       3       0  \n",
       "Accountant II                                 77    77      0      77       0  \n",
       "...                                          ...   ...    ...     ...     ...  \n",
       "Wire Rope Cable Maint Sprv                     1     1      0       1       0  \n",
       "Worker's Comp Supervisor 1                     3     3      0       3       0  \n",
       "Worker's Compensation Adjuster                25    25      0      25       0  \n",
       "X-Ray Laboratory Aide                         34    34      0      34       0  \n",
       "Youth Comm Advisor                             2     2      0       2       0  \n",
       "\n",
       "[1051 rows x 12 columns]"
      ]
     },
     "execution_count": 259,
     "metadata": {},
     "output_type": "execute_result"
    }
   ],
   "source": [
    "# How many Job Titles were represented by only one person in 2013? (e.g. Job Titles with\n",
    "# only one occurence in 2013?)\n",
    "df16 = df.loc[df[\"Year\"] == 2013]\n",
    "\n",
    "df17= df16.groupby(\"JobTitle\").agg(\"count\")\n",
    "df17"
   ]
  },
  {
   "cell_type": "code",
   "execution_count": 227,
   "id": "further-authorization",
   "metadata": {},
   "outputs": [
    {
     "data": {
      "text/plain": [
       "313"
      ]
     },
     "execution_count": 227,
     "metadata": {},
     "output_type": "execute_result"
    }
   ],
   "source": [
    "# How many people have the word Chief in their job title? (This is pretty tricky)\n",
    "df13 = df[df['JobTitle'].str.match('.*Chief.*')== True]\n",
    "df14 = df13[[\"EmployeeName\",\"JobTitle\"]]\n",
    "df14[\"EmployeeName\"].nunique()\n"
   ]
  },
  {
   "cell_type": "code",
   "execution_count": 154,
   "id": "expected-arnold",
   "metadata": {},
   "outputs": [],
   "source": [
    "# Is there a correlation between length of the Job Title string and Salary?"
   ]
  },
  {
   "cell_type": "code",
   "execution_count": null,
   "id": "becoming-inventory",
   "metadata": {},
   "outputs": [],
   "source": [
    "# NO"
   ]
  }
 ],
 "metadata": {
  "kernelspec": {
   "display_name": "Python 3",
   "language": "python",
   "name": "python3"
  },
  "language_info": {
   "codemirror_mode": {
    "name": "ipython",
    "version": 3
   },
   "file_extension": ".py",
   "mimetype": "text/x-python",
   "name": "python",
   "nbconvert_exporter": "python",
   "pygments_lexer": "ipython3",
   "version": "3.9.1"
  }
 },
 "nbformat": 4,
 "nbformat_minor": 5
}
