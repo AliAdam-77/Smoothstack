{
 "cells": [
  {
   "cell_type": "code",
   "execution_count": 1,
   "id": "acknowledged-revelation",
   "metadata": {},
   "outputs": [
    {
     "name": "stdout",
     "output_type": "stream",
     "text": [
      "Hello World\n"
     ]
    }
   ],
   "source": [
    "#1.Create a function func() which prints a text ‘Hello World’\n",
    "def func():\n",
    "    print(\"Hello World\")\n",
    "func()\n",
    "print(\"\\n\")"
   ]
  },
  {
   "cell_type": "code",
   "execution_count": 2,
   "id": "alien-washington",
   "metadata": {},
   "outputs": [
    {
     "name": "stdout",
     "output_type": "stream",
     "text": [
      "Hi My name is Google\n",
      "\n",
      "\n"
     ]
    }
   ],
   "source": [
    "#2.Create a function which func1(name) which takes a value name and prints the output “Hi My name is Google’\n",
    "def func1(name):\n",
    "    print(\"Hi My name is %s\"%name)\n",
    "func1(\"Google\")\n",
    "print(\"\\n\")\n"
   ]
  },
  {
   "cell_type": "code",
   "execution_count": 7,
   "id": "competitive-qualification",
   "metadata": {},
   "outputs": [
    {
     "name": "stdout",
     "output_type": "stream",
     "text": [
      "func3('hello','goodbye',False) = goodbye\n",
      "\n",
      "\n"
     ]
    }
   ],
   "source": [
    "#3.Define a function func3(x,y,z) that takes three arguments x,y,z where z is true it will return x and when\n",
    "#z is false it should return y . func3(‘hello’goodbye’,false)\n",
    "def func3(x,y,z):\n",
    "    if z :\n",
    "        return x\n",
    "    else:\n",
    "        return y\n",
    "ans = func3(\"hello\",'goodbye',False)\n",
    "print(\"func3('hello','goodbye',False)\",\"=\",ans)\n",
    "print(\"\\n\")"
   ]
  },
  {
   "cell_type": "code",
   "execution_count": 8,
   "id": "given-angola",
   "metadata": {},
   "outputs": [
    {
     "name": "stdout",
     "output_type": "stream",
     "text": [
      "func4(2,3) = 2 3\n",
      "\n",
      "\n"
     ]
    }
   ],
   "source": [
    "#4.define a function func4(x,y) which returns the product of both the values.\n",
    "def func4(x,y):\n",
    "    return x,y\n",
    "x,y = func4(2,3)\n",
    "print(\"func4(2,3)\",\"=\",x,y)\n",
    "print(\"\\n\")"
   ]
  },
  {
   "cell_type": "code",
   "execution_count": 10,
   "id": "asian-williams",
   "metadata": {},
   "outputs": [
    {
     "name": "stdout",
     "output_type": "stream",
     "text": [
      "is_even(3) = False\n",
      "is_even(2) = True\n"
     ]
    }
   ],
   "source": [
    "#5.define a function called as is_even that takes one argument , which returns true when even values is\n",
    "#passed and false if it is not.\n",
    "def is_even(x):\n",
    "    if x%2== 0:\n",
    "        return True\n",
    "    else:\n",
    "        return False\n",
    "res = is_even(3)\n",
    "res2 = is_even(2)\n",
    "print(\"is_even(3)\",\"=\",res)\n",
    "print(\"is_even(2)\",\"=\",res2)\n",
    "print(\"\\n\")"
   ]
  },
  {
   "cell_type": "code",
   "execution_count": 11,
   "id": "alternate-stack",
   "metadata": {},
   "outputs": [
    {
     "name": "stdout",
     "output_type": "stream",
     "text": [
      "is_greater(2,3) = False\n",
      "is_greater(2,2) = False\n",
      "is_greater(2,1) = True\n"
     ]
    }
   ],
   "source": [
    "#6.define a function that takes two arguments ,and returns true if the first value is greater than the\n",
    "# value and returns false if it is less than or equal to the second.\n",
    "\n",
    "def is_greater(x,y):\n",
    "    if x > y :\n",
    "        return True\n",
    "    else:\n",
    "        return False\n",
    "ans1= is_greater(2,3)\n",
    "print(\"is_greater(2,3)\",\"=\",ans1)\n",
    "ans1= is_greater(2,2)\n",
    "print(\"is_greater(2,2)\",\"=\",ans1)\n",
    "ans1= is_greater(2,1)\n",
    "print(\"is_greater(2,1)\",\"=\",ans1)\n",
    "\n"
   ]
  },
  {
   "cell_type": "code",
   "execution_count": 14,
   "id": "imported-bundle",
   "metadata": {},
   "outputs": [
    {
     "name": "stdout",
     "output_type": "stream",
     "text": [
      "summ(1,2,3,4) = 10\n"
     ]
    }
   ],
   "source": [
    "#7.Define a function which takes arbitrary number of arguments and returns the sum of the arguments.\\\n",
    "\n",
    "def summ(*args):\n",
    "    return sum(args)\n",
    "    \n",
    "x = summ(1,2,3,4)\n",
    "print(\"summ(1,2,3,4)\",\"=\",x)"
   ]
  },
  {
   "cell_type": "code",
   "execution_count": 16,
   "id": "pregnant-badge",
   "metadata": {},
   "outputs": [
    {
     "name": "stdout",
     "output_type": "stream",
     "text": [
      "evenList(6,7,8,9,2,4,5) = [6, 8, 2, 4]\n"
     ]
    }
   ],
   "source": [
    "#8.Define a function which takes arbitrary number of arguments and returns a list containing only the\n",
    "#arguments that are even.\n",
    "def evenList(*args):\n",
    "    even = []\n",
    "    for i in args:\n",
    "        if is_even(i):\n",
    "            even.append(i)\n",
    "    return even\n",
    "e = evenList(6,7,8,9,2,4,5)\n",
    "print(\"evenList(6,7,8,9,2,4,5)\",\"=\",e)\n",
    "    \n",
    "        "
   ]
  },
  {
   "cell_type": "code",
   "execution_count": 20,
   "id": "herbal-benchmark",
   "metadata": {},
   "outputs": [
    {
     "name": "stdout",
     "output_type": "stream",
     "text": [
      "hdsfdsk = HdSfDsK\n"
     ]
    }
   ],
   "source": [
    "#9.Define a function that takes a string and returns a matching string where every even letter is\n",
    "#uppercase and every odd letter is lowercase\n",
    "\n",
    "def change(s):\n",
    "    res = \"\"\n",
    "    for i,v in enumerate(s):\n",
    "        if is_even(i):\n",
    "            res+=v.upper()\n",
    "        else:\n",
    "            res+=v.lower()\n",
    "    return res\n",
    "\n",
    "        \n",
    "s= \"hdsfdsk\"\n",
    "res = change(s)\n",
    "print(\"hdsfdsk\",\"=\",res)"
   ]
  },
  {
   "cell_type": "code",
   "execution_count": 21,
   "id": "accompanied-separation",
   "metadata": {},
   "outputs": [],
   "source": [
    "# 10.Write a function which gives lesser than a given number if both the numbers are even, but returns\n",
    "# greater if one or both or odd.\n"
   ]
  },
  {
   "cell_type": "code",
   "execution_count": 25,
   "id": "german-swimming",
   "metadata": {},
   "outputs": [
    {
     "name": "stdout",
     "output_type": "stream",
     "text": [
      "sameFirst(\"abcd\",\"aaaa\") = True\n",
      "sameFirst(\"abcd\",\"bbbb\") = False\n"
     ]
    }
   ],
   "source": [
    "# 11.Write a function which takes two-strings and returns true if both the strings start with the same\n",
    "# letter.\n",
    "def sameFirst(x,y):\n",
    "    if x[0]==y[0]:\n",
    "        return True\n",
    "    return False\n",
    "print('sameFirst(\"abcd\",\"aaaa\")' ,\"=\",sameFirst(\"abcd\",\"aaaa\"))\n",
    "print('sameFirst(\"abcd\",\"bbbb\")' ,\"=\",sameFirst(\"abcd\",\"bbbb\"))"
   ]
  },
  {
   "cell_type": "code",
   "execution_count": 29,
   "id": "changed-average",
   "metadata": {},
   "outputs": [
    {
     "name": "stdout",
     "output_type": "stream",
     "text": [
      "square([1, 2, 3, 4, 5, 6, 7]) = [1, 4, 9, 16, 25, 36, 49]\n"
     ]
    }
   ],
   "source": [
    "# 12.Given a value,return a value which is twice \n",
    "def square(l):\n",
    "    for i in range(len(l)):\n",
    "        l[i]= l[i]**2\n",
    "    return l\n",
    "\n",
    "l = [1,2,3,4,5,6,7]\n",
    "print(\"square([1, 2, 3, 4, 5, 6, 7])\",\"=\",square([1,2,3,4,5,6,7]))"
   ]
  },
  {
   "cell_type": "code",
   "execution_count": 27,
   "id": "retained-withdrawal",
   "metadata": {},
   "outputs": [
    {
     "name": "stdout",
     "output_type": "stream",
     "text": [
      "lastFunc('abcdefg') = AbcDefg\n"
     ]
    }
   ],
   "source": [
    "# 13.A function that capitalizes first and fourth character of a word in a string.\n",
    "def lastFunc(s):\n",
    "    ans = \"\"\n",
    "    for i,v in enumerate(s):\n",
    "        if i == 0 or i == 3:\n",
    "            ans += v.upper()\n",
    "        else:\n",
    "            ans += v.lower()\n",
    "    return ans\n",
    "print(\"lastFunc('abcdefg')\",\"=\",lastFunc('abcdefg'))"
   ]
  },
  {
   "cell_type": "code",
   "execution_count": null,
   "id": "dietary-parameter",
   "metadata": {},
   "outputs": [],
   "source": []
  }
 ],
 "metadata": {
  "kernelspec": {
   "display_name": "Python 3",
   "language": "python",
   "name": "python3"
  },
  "language_info": {
   "codemirror_mode": {
    "name": "ipython",
    "version": 3
   },
   "file_extension": ".py",
   "mimetype": "text/x-python",
   "name": "python",
   "nbconvert_exporter": "python",
   "pygments_lexer": "ipython3",
   "version": "3.9.1"
  }
 },
 "nbformat": 4,
 "nbformat_minor": 5
}
