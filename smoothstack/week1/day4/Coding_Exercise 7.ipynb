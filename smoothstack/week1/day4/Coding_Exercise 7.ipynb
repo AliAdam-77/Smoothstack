{
 "cells": [
  {
   "cell_type": "code",
   "execution_count": 19,
   "id": "freelance-yacht",
   "metadata": {},
   "outputs": [],
   "source": [
    "import random"
   ]
  },
  {
   "cell_type": "code",
   "execution_count": 5,
   "id": "fitted-niagara",
   "metadata": {},
   "outputs": [
    {
     "name": "stdout",
     "output_type": "stream",
     "text": [
      "[1505, 1540, 1575, 1610, 1645, 1680, 1715, 1750, 1785, 1820, 1855, 1890, 1925, 1960, 1995, 2030, 2065, 2100, 2135, 2170, 2205, 2240, 2275, 2310, 2345, 2380, 2415, 2450, 2485, 2520, 2555, 2590, 2625, 2660, 2695]\n"
     ]
    }
   ],
   "source": [
    "#1.  Write a Python program to find those numbers which are divisible by 7 and multiple of 5,\n",
    "#between 1500 and 2700 (both included). Go to the editor\n",
    "res = [i for i in range(1500,2701)]  # list comprehension\n",
    "result = list(filter(lambda x: x%7 ==0 and x%5 == 0,res)) #filter funtion\n",
    "print(result)\n",
    "print(\"\\n\")"
   ]
  },
  {
   "cell_type": "code",
   "execution_count": 15,
   "id": "yellow-upset",
   "metadata": {},
   "outputs": [
    {
     "name": "stdout",
     "output_type": "stream",
     "text": [
      "convert 60C to F\n",
      "140.0F\n",
      "\n",
      "\n",
      "convert 45F to c\n",
      "7C\n",
      "\n",
      "\n"
     ]
    }
   ],
   "source": [
    "#2.  Write a Python program to convert temperatures to and from celsius, fahrenheit.\n",
    "#Formula : c/5 = f-32/9\n",
    "print(\"convert 60C to F\")\n",
    "ans1 = lambda x: (9/5)*x + 32\n",
    "print(str(ans1(60))+ \"F\")\n",
    "print(\"\\n\")\n",
    "\n",
    "print(\"convert 45F to c\")\n",
    "ans1 = lambda x: ((x-32)/9)*5\n",
    "print(str(int(ans1(45)))+ \"C\")\n",
    "print(\"\\n\")\n",
    "      "
   ]
  },
  {
   "cell_type": "code",
   "execution_count": 28,
   "id": "dense-annotation",
   "metadata": {},
   "outputs": [
    {
     "name": "stdout",
     "output_type": "stream",
     "text": [
      "Guess a number between 1-9: 3\n",
      "Guess a number between 1-9: 4\n",
      "Guess a number between 1-9: 5\n",
      "Guess a number between 1-9: 6\n",
      "Guess a number between 1-9: 7\n",
      "Guess a number between 1-9: 7\n",
      "Guess a number between 1-9: 8\n",
      "Well guessed!\n"
     ]
    }
   ],
   "source": [
    "#3.  Write a Python program to guess a number between 1 to 9. Go\n",
    "x = random.randrange(1,10)\n",
    "notguessed = True\n",
    "while (notguessed):\n",
    "    y = int(input(\"Guess a number between 1-9: \"))\n",
    "    if x == y :\n",
    "        notguessed= False\n",
    "        print('Well guessed!')\n",
    "    "
   ]
  },
  {
   "cell_type": "code",
   "execution_count": 57,
   "id": "loved-garlic",
   "metadata": {},
   "outputs": [
    {
     "name": "stdout",
     "output_type": "stream",
     "text": [
      "*\n",
      "**\n",
      "***\n",
      "****\n",
      "*****\n",
      "****\n",
      "***\n",
      "**\n",
      "*\n"
     ]
    }
   ],
   "source": [
    "#4. Write a Python program to construct the following pattern, using a nested for loop.\n",
    "pattern = \"*\"\n",
    "x = 0\n",
    "for i in range (1,10):\n",
    "    for j in range(i,i+1):\n",
    "        if j < 6:\n",
    "            print(pattern*j)\n",
    "        else:\n",
    "            x+=2 \n",
    "            print(pattern*(j-x))\n",
    "            \n",
    "print(\"\\n\")\n",
    "        "
   ]
  },
  {
   "cell_type": "code",
   "execution_count": 58,
   "id": "adjacent-stick",
   "metadata": {},
   "outputs": [
    {
     "name": "stdout",
     "output_type": "stream",
     "text": [
      "Enter a word: hwy\n",
      "ywh\n"
     ]
    }
   ],
   "source": [
    "#6.  Write a Python program that accepts a word from the user and reverse it.\n",
    "inp = input(\"Enter a word: \")\n",
    "print(inp[::-1])\n",
    "print(\"\\n\")"
   ]
  },
  {
   "cell_type": "code",
   "execution_count": 76,
   "id": "specified-credits",
   "metadata": {},
   "outputs": [
    {
     "name": "stdout",
     "output_type": "stream",
     "text": [
      "Numbers of even numbers 4\n",
      "Numbers of odd numbers 5\n",
      "\n",
      "\n"
     ]
    }
   ],
   "source": [
    "#7.  Write a Python program to count the number of even and odd numbers from a series of numbers.\n",
    "numbers = (1, 2, 3, 4, 5, 6, 7, 8, 9)\n",
    "\n",
    "evenList = list(filter(lambda x : x%2 == 0 ,numbers))\n",
    "even = len(even)\n",
    "odd = len(numbers)-e\n",
    "print(\"Numbers of even numbers %s\"% even)\n",
    "print(\"Numbers of odd numbers %s\"% odd)\n",
    "print(\"\\n\")"
   ]
  },
  {
   "cell_type": "code",
   "execution_count": 77,
   "id": "pressing-consideration",
   "metadata": {},
   "outputs": [
    {
     "name": "stdout",
     "output_type": "stream",
     "text": [
      "[<class 'int'>, <class 'float'>, <class 'complex'>, <class 'bool'>, <class 'str'>, <class 'tuple'>, <class 'list'>, <class 'dict'>]\n"
     ]
    }
   ],
   "source": [
    "#Write a Python program that prints each item and its corresponding type from the following list.\n",
    "d = [1452, 11.23, 1+2j, True, \"w3resource\", (0, -1), [5, 12], {\"class\":\"V\",\"section\":\"A\"}]\n",
    "res = list(map(lambda x : type(x),d))\n",
    "print(res)"
   ]
  },
  {
   "cell_type": "code",
   "execution_count": 78,
   "id": "honey-prevention",
   "metadata": {},
   "outputs": [
    {
     "data": {
      "text/plain": [
       "int"
      ]
     },
     "execution_count": 78,
     "metadata": {},
     "output_type": "execute_result"
    }
   ],
   "source": [
    "type(10)\n"
   ]
  },
  {
   "cell_type": "code",
   "execution_count": 79,
   "id": "settled-moscow",
   "metadata": {},
   "outputs": [
    {
     "name": "stdout",
     "output_type": "stream",
     "text": [
      "0\n",
      "1\n",
      "2\n",
      "4\n",
      "5\n"
     ]
    }
   ],
   "source": [
    "#Write a Python program that prints all the numbers from 0 to 6 except 3 and 6.\n",
    "for i in range (0,7):\n",
    "    if i == 3 or i == 6:\n",
    "        continue\n",
    "    else:\n",
    "        print(i)"
   ]
  },
  {
   "cell_type": "code",
   "execution_count": null,
   "id": "dutch-registration",
   "metadata": {},
   "outputs": [],
   "source": []
  }
 ],
 "metadata": {
  "kernelspec": {
   "display_name": "Python 3",
   "language": "python",
   "name": "python3"
  },
  "language_info": {
   "codemirror_mode": {
    "name": "ipython",
    "version": 3
   },
   "file_extension": ".py",
   "mimetype": "text/x-python",
   "name": "python",
   "nbconvert_exporter": "python",
   "pygments_lexer": "ipython3",
   "version": "3.9.1"
  }
 },
 "nbformat": 4,
 "nbformat_minor": 5
}
