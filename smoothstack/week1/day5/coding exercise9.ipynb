{
 "cells": [
  {
   "cell_type": "code",
   "execution_count": 32,
   "id": "western-jurisdiction",
   "metadata": {},
   "outputs": [
    {
     "name": "stdout",
     "output_type": "stream",
     "text": [
      "[[34587, 'Learning Python, Mark Lutz', 4, 40.95], [98762, 'Programming Python, Mark Lutz', 5, 56.8], [77226, 'Head First Python, Paul Barry', 3, 32.95], [88112, 'Einführung in Python3, Bernd Klein', 3, 24.99]]\n"
     ]
    }
   ],
   "source": [
    "bookshop= [\n",
    "[34587, \"Learning Python, Mark Lutz\",         4, 40.95],\n",
    "[98762, \"Programming Python, Mark Lutz\",      5, 56.80],\n",
    "[77226, \"Head First Python, Paul Barry\",      3, 32.95],\n",
    "[88112, \"Einführung in Python3, Bernd Klein\", 3, 24.99]\n",
    "]\n",
    "\n",
    "\n",
    "print(bookshop)"
   ]
  },
  {
   "cell_type": "code",
   "execution_count": 30,
   "id": "driving-order",
   "metadata": {},
   "outputs": [],
   "source": [
    "ans = lambda x: (x[0],(x[2],x[3]))\n",
    "final = []\n",
    "for i in bookshop:\n",
    "    if i[3] < 100:\n",
    "        i[3]+=10\n",
    "    final.append(tuple(ans(i)))\n",
    "\n",
    "        \n",
    "\n",
    "\n"
   ]
  },
  {
   "cell_type": "code",
   "execution_count": 47,
   "id": "acknowledged-floor",
   "metadata": {},
   "outputs": [
    {
     "name": "stdout",
     "output_type": "stream",
     "text": [
      "[(34587, (4, 50.95)), (98762, (5, 66.8)), (77226, (3, 42.95)), (88112, (3, 34.989999999999995))]\n"
     ]
    }
   ],
   "source": [
    "print(final)"
   ]
  },
  {
   "cell_type": "code",
   "execution_count": 46,
   "id": "indie-export",
   "metadata": {},
   "outputs": [
    {
     "name": "stdout",
     "output_type": "stream",
     "text": [
      "[(34587, 4), (98762, 5), (77226, 3), (88112, 3)]\n"
     ]
    }
   ],
   "source": [
    "#ans1 = lambda x: (x[0],x[1][0])\n",
    "final2 = []\n",
    "for x in final:\n",
    "    final2.append(tuple((x[0],x[1][0])))\n",
    "print(final2)\n",
    "\n",
    "    "
   ]
  },
  {
   "cell_type": "code",
   "execution_count": null,
   "id": "black-reliance",
   "metadata": {},
   "outputs": [],
   "source": []
  }
 ],
 "metadata": {
  "kernelspec": {
   "display_name": "Python 3",
   "language": "python",
   "name": "python3"
  },
  "language_info": {
   "codemirror_mode": {
    "name": "ipython",
    "version": 3
   },
   "file_extension": ".py",
   "mimetype": "text/x-python",
   "name": "python",
   "nbconvert_exporter": "python",
   "pygments_lexer": "ipython3",
   "version": "3.9.1"
  }
 },
 "nbformat": 4,
 "nbformat_minor": 5
}
