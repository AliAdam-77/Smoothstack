{
 "cells": [
  {
   "cell_type": "markdown",
   "id": "cheap-norfolk",
   "metadata": {},
   "source": [
    "# Coding Exercise 3:"
   ]
  },
  {
   "cell_type": "markdown",
   "id": "widespread-calculator",
   "metadata": {},
   "source": [
    "## 1. Write a string that returns just the letter ‘r’ from ‘Hello World’\n",
    "#### For example, ‘Hello World’[0] returns ‘H’.You should write one line of code. Don’t assign avariable name to the string."
   ]
  },
  {
   "cell_type": "code",
   "execution_count": 3,
   "id": "neural-string",
   "metadata": {},
   "outputs": [
    {
     "data": {
      "text/plain": [
       "'r'"
      ]
     },
     "execution_count": 3,
     "metadata": {},
     "output_type": "execute_result"
    }
   ],
   "source": [
    "\"Hello World\"[8]"
   ]
  },
  {
   "cell_type": "markdown",
   "id": "general-pattern",
   "metadata": {},
   "source": [
    "## 2. String slicing to grab the word ‘ink’ from the word ‘thinker’\n",
    "#### S=’hello’,what is the output of h[1]"
   ]
  },
  {
   "cell_type": "code",
   "execution_count": 4,
   "id": "looking-composition",
   "metadata": {},
   "outputs": [
    {
     "data": {
      "text/plain": [
       "'ink'"
      ]
     },
     "execution_count": 4,
     "metadata": {},
     "output_type": "execute_result"
    }
   ],
   "source": [
    "\"thinker\"[2:5]"
   ]
  },
  {
   "cell_type": "code",
   "execution_count": 6,
   "id": "ready-crowd",
   "metadata": {},
   "outputs": [
    {
     "data": {
      "text/plain": [
       "'h'"
      ]
     },
     "execution_count": 6,
     "metadata": {},
     "output_type": "execute_result"
    }
   ],
   "source": [
    "s= 'hello'\n",
    "s[0]"
   ]
  },
  {
   "cell_type": "markdown",
   "id": "strong-alloy",
   "metadata": {},
   "source": [
    "## 3. S=’Sammy’ what is the output of s[2:]”"
   ]
  },
  {
   "cell_type": "code",
   "execution_count": 7,
   "id": "tested-wallace",
   "metadata": {},
   "outputs": [
    {
     "data": {
      "text/plain": [
       "'mmy'"
      ]
     },
     "execution_count": 7,
     "metadata": {},
     "output_type": "execute_result"
    }
   ],
   "source": [
    "S = \"sammy\"\n",
    "S[2:]"
   ]
  },
  {
   "cell_type": "markdown",
   "id": "developing-separation",
   "metadata": {},
   "source": [
    "## 4. With a single set function can you turn the word ‘Mississippi’ to distinct character word."
   ]
  },
  {
   "cell_type": "code",
   "execution_count": 8,
   "id": "accurate-frank",
   "metadata": {},
   "outputs": [
    {
     "data": {
      "text/plain": [
       "{'M', 'i', 'p', 's'}"
      ]
     },
     "execution_count": 8,
     "metadata": {},
     "output_type": "execute_result"
    }
   ],
   "source": [
    "set(\"Mississippi\")"
   ]
  },
  {
   "cell_type": "markdown",
   "id": "executive-february",
   "metadata": {},
   "source": [
    "## 5. determine, whether the phrase represents a palindrome or not."
   ]
  },
  {
   "cell_type": "code",
   "execution_count": null,
   "id": "acting-vocabulary",
   "metadata": {},
   "outputs": [],
   "source": [
    "def isPalindrome(s):\n",
    "    print(\"hshsh\")\n",
    "    \n",
    "    x = s.replace(\" \",\"\")\n",
    "    y = x[::-1]\n",
    "    \n",
    "    if x == y:\n",
    "        return \"Y\"\n",
    "    else:\n",
    "        return \"N\"\n",
    "\n",
    "# input(\"input:\\n\")\n",
    "res = isPalindrome(\"Some men interpret nine memos\")\n",
    "print(res)"
   ]
  },
  {
   "cell_type": "code",
   "execution_count": null,
   "id": "brazilian-token",
   "metadata": {},
   "outputs": [],
   "source": []
  }
 ],
 "metadata": {
  "kernelspec": {
   "display_name": "Python 3",
   "language": "python",
   "name": "python3"
  },
  "language_info": {
   "codemirror_mode": {
    "name": "ipython",
    "version": 3
   },
   "file_extension": ".py",
   "mimetype": "text/x-python",
   "name": "python",
   "nbconvert_exporter": "python",
   "pygments_lexer": "ipython3",
   "version": "3.9.1"
  }
 },
 "nbformat": 4,
 "nbformat_minor": 5
}
