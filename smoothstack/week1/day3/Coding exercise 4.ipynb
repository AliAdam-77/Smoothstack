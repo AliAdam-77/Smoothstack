{
 "cells": [
  {
   "cell_type": "markdown",
   "id": "statutory-filling",
   "metadata": {},
   "source": [
    "# Coding Exercise 4:"
   ]
  },
  {
   "cell_type": "code",
   "execution_count": 1,
   "id": "armed-parts",
   "metadata": {},
   "outputs": [
    {
     "name": "stdout",
     "output_type": "stream",
     "text": [
      "[1, 'one', 1.111]\n"
     ]
    }
   ],
   "source": [
    "#1. Create a list with one number, one word and one float value. Display the output of the list.\n",
    "l = [1,\"one\",1.111]\n",
    "print(l)"
   ]
  },
  {
   "cell_type": "code",
   "execution_count": 3,
   "id": "successful-priest",
   "metadata": {},
   "outputs": [
    {
     "name": "stdout",
     "output_type": "stream",
     "text": [
      "2\n"
     ]
    }
   ],
   "source": [
    "#2. I have a nested list [1,1[1,2]], how to grab the value of 2 from the list.\n",
    "l = [1,1,[1,2]]\n",
    "print(l[2][1])"
   ]
  },
  {
   "cell_type": "code",
   "execution_count": 4,
   "id": "ethical-defendant",
   "metadata": {},
   "outputs": [
    {
     "data": {
      "text/plain": [
       "['&#39;b&#39;', '&#39;c&#39;']"
      ]
     },
     "execution_count": 4,
     "metadata": {},
     "output_type": "execute_result"
    }
   ],
   "source": [
    "#3. lst=[&#39;a&#39;,&#39;b&#39;,&#39;c&#39;] What is the result of lst[1:]?\n",
    "lst=[\"&#39;a&#39;\",\"&#39;b&#39;\",\"&#39;c&#39;\"]\n",
    "print(lst[1:])"
   ]
  },
  {
   "cell_type": "code",
   "execution_count": 5,
   "id": "narrative-reflection",
   "metadata": {},
   "outputs": [
    {
     "name": "stdout",
     "output_type": "stream",
     "text": [
      "{'Monday': 1, 'Tuesday': 2, 'Wednesday': 3, 'Thursday': 4, 'Friday': 5, 'Saturday': 6, 'Sunday': 7}\n"
     ]
    }
   ],
   "source": [
    "#4. Create a dictionary with weekdays an keys and week index numbers as values.do assign dictionary to a variable\n",
    "week = {\"Monday\":1,\"Tuesday\":2,\"Wednesday\":3,\"Thursday\":4,\"Friday\":5,\"Saturday\":6,\"Sunday\":7}\n",
    "print(week)"
   ]
  },
  {
   "cell_type": "code",
   "execution_count": 9,
   "id": "prescribed-retrieval",
   "metadata": {},
   "outputs": [
    {
     "data": {
      "text/plain": [
       "2"
      ]
     },
     "execution_count": 9,
     "metadata": {},
     "output_type": "execute_result"
    }
   ],
   "source": [
    "#5.D={‘k1’:[1,2,3]} what is the output of d[k1][1]\n",
    "D={'k1':[1,2,3]}\n",
    "print(D['k1'][1])"
   ]
  },
  {
   "cell_type": "code",
   "execution_count": 11,
   "id": "respiratory-weather",
   "metadata": {},
   "outputs": [
    {
     "name": "stdout",
     "output_type": "stream",
     "text": [
      "(1, [2, 3])\n"
     ]
    }
   ],
   "source": [
    "#6. Can you create a list [1,[2,3]] into a tuple\n",
    "t = tuple([1,[2,3]])\n",
    "print(t)"
   ]
  },
  {
   "cell_type": "code",
   "execution_count": 13,
   "id": "powered-insured",
   "metadata": {},
   "outputs": [
    {
     "name": "stdout",
     "output_type": "stream",
     "text": [
      "{'i', 's', 'p', 'M'}\n"
     ]
    }
   ],
   "source": [
    "#7. With a single set function can you turn the word ‘Mississippi’ to distinct character word.\n",
    "\n",
    "s = set('Mississippi')\n",
    "print(s)"
   ]
  },
  {
   "cell_type": "code",
   "execution_count": 14,
   "id": "technical-buddy",
   "metadata": {},
   "outputs": [
    {
     "name": "stdout",
     "output_type": "stream",
     "text": [
      "{'s', 'i', 'M', 'p', 'X'}\n"
     ]
    }
   ],
   "source": [
    "#8. Can you add an element ‘X’ to the above created set\n",
    "s.add(\"X\")\n",
    "print(s)"
   ]
  },
  {
   "cell_type": "code",
   "execution_count": 15,
   "id": "standard-rebate",
   "metadata": {},
   "outputs": [
    {
     "name": "stdout",
     "output_type": "stream",
     "text": [
      "{1, 2, 3}\n"
     ]
    }
   ],
   "source": [
    "#9. Output of set([1,1,2,3])\n",
    "print(set([1,1,2,3]))"
   ]
  },
  {
   "cell_type": "markdown",
   "id": "fifth-press",
   "metadata": {},
   "source": [
    "### Write a program which will find all such numbers which are divisible by 7 but are not a multipleof 5,between 2000 and 3200 (both included)."
   ]
  },
  {
   "cell_type": "code",
   "execution_count": 16,
   "id": "turned-highway",
   "metadata": {},
   "outputs": [
    {
     "name": "stdout",
     "output_type": "stream",
     "text": [
      "[2002, 2009, 2016, 2023, 2037, 2044, 2051, 2058, 2072, 2079, 2086, 2093, 2107, 2114, 2121, 2128, 2142, 2149, 2156, 2163, 2177, 2184, 2191, 2198, 2212, 2219, 2226, 2233, 2247, 2254, 2261, 2268, 2282, 2289, 2296, 2303, 2317, 2324, 2331, 2338, 2352, 2359, 2366, 2373, 2387, 2394, 2401, 2408, 2422, 2429, 2436, 2443, 2457, 2464, 2471, 2478, 2492, 2499, 2506, 2513, 2527, 2534, 2541, 2548, 2562, 2569, 2576, 2583, 2597, 2604, 2611, 2618, 2632, 2639, 2646, 2653, 2667, 2674, 2681, 2688, 2702, 2709, 2716, 2723, 2737, 2744, 2751, 2758, 2772, 2779, 2786, 2793, 2807, 2814, 2821, 2828, 2842, 2849, 2856, 2863, 2877, 2884, 2891, 2898, 2912, 2919, 2926, 2933, 2947, 2954, 2961, 2968, 2982, 2989, 2996, 3003, 3017, 3024, 3031, 3038, 3052, 3059, 3066, 3073, 3087, 3094, 3101, 3108, 3122, 3129, 3136, 3143, 3157, 3164, 3171, 3178, 3192, 3199]\n"
     ]
    }
   ],
   "source": [
    "x = []\n",
    "for i in range(2000,3201):\n",
    "    if i % 7 == 0 and i % 5 != 0:\n",
    "        x.append(i)\n",
    "print(x)"
   ]
  },
  {
   "cell_type": "markdown",
   "id": "every-pixel",
   "metadata": {},
   "source": [
    "### Write a program which can compute the factorial of a given numbers."
   ]
  },
  {
   "cell_type": "code",
   "execution_count": 19,
   "id": "rolled-paintball",
   "metadata": {},
   "outputs": [
    {
     "name": "stdout",
     "output_type": "stream",
     "text": [
      "8\n",
      "40320\n"
     ]
    }
   ],
   "source": [
    "x = int(input())\n",
    "if x == 0:\n",
    "    print(1)\n",
    "else:\n",
    "    res =1\n",
    "    for i in range (x,1,-1):\n",
    "        res *= i\n",
    "    print(res)\n",
    "    "
   ]
  },
  {
   "cell_type": "markdown",
   "id": "opposite-removal",
   "metadata": {},
   "source": [
    "### With a given integral number n, write a program to generate a dictionary that contains (i, i * i)"
   ]
  },
  {
   "cell_type": "code",
   "execution_count": 20,
   "id": "pretty-register",
   "metadata": {},
   "outputs": [
    {
     "name": "stdout",
     "output_type": "stream",
     "text": [
      "4\n",
      "{4: 16, 3: 9, 2: 4, 1: 1}\n"
     ]
    }
   ],
   "source": [
    "n = int(input())\n",
    "d = dict()\n",
    "for i in range(n ,0,-1):\n",
    "    d[i] = i*i\n",
    "print(d)"
   ]
  },
  {
   "cell_type": "markdown",
   "id": "authentic-department",
   "metadata": {},
   "source": [
    "### Write a program which accepts a sequence of comma-separated numbers from console and generate a list and a tuple which contains every number."
   ]
  },
  {
   "cell_type": "code",
   "execution_count": 22,
   "id": "remarkable-colors",
   "metadata": {},
   "outputs": [
    {
     "name": "stdout",
     "output_type": "stream",
     "text": [
      "a,s,f,g,h,h\n",
      "['a', 's', 'f', 'g', 'h', 'h']\n",
      "('a', 's', 'f', 'g', 'h', 'h')\n"
     ]
    }
   ],
   "source": [
    "x = input()\n",
    "l = x.split(\",\")\n",
    "t = tuple(l)\n",
    "\n",
    "print(l)\n",
    "print(t)"
   ]
  },
  {
   "cell_type": "markdown",
   "id": "assisted-berkeley",
   "metadata": {},
   "source": [
    "### Define a class which has at least two methods: getString: to get a string from console input ,  printString: to print the string in upper case."
   ]
  },
  {
   "cell_type": "code",
   "execution_count": 24,
   "id": "still-approach",
   "metadata": {},
   "outputs": [
    {
     "name": "stdout",
     "output_type": "stream",
     "text": [
      "hello world\n",
      "hello world\n"
     ]
    }
   ],
   "source": [
    "class code4():\n",
    "    def __init__(self):\n",
    "        self.s = \"\"\n",
    "    def getString(self):\n",
    "        self.s = input()\n",
    "    def printString(self):\n",
    "        print(self.s)\n",
    "\n",
    "x = code4()\n",
    "x.getString()\n",
    "x.printString()"
   ]
  },
  {
   "cell_type": "code",
   "execution_count": null,
   "id": "extra-louisiana",
   "metadata": {},
   "outputs": [],
   "source": []
  }
 ],
 "metadata": {
  "kernelspec": {
   "display_name": "Python 3",
   "language": "python",
   "name": "python3"
  },
  "language_info": {
   "codemirror_mode": {
    "name": "ipython",
    "version": 3
   },
   "file_extension": ".py",
   "mimetype": "text/x-python",
   "name": "python",
   "nbconvert_exporter": "python",
   "pygments_lexer": "ipython3",
   "version": "3.9.1"
  }
 },
 "nbformat": 4,
 "nbformat_minor": 5
}
