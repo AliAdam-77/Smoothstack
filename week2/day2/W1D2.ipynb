{
 "cells": [
  {
   "cell_type": "markdown",
   "id": "common-benjamin",
   "metadata": {},
   "source": [
    "# Day 2 Exercises"
   ]
  },
  {
   "cell_type": "markdown",
   "id": "chronic-merit",
   "metadata": {},
   "source": [
    "## 1. Numbers: Example code to add two numbers 50+50 and 100-10 and print it."
   ]
  },
  {
   "cell_type": "code",
   "execution_count": 1,
   "id": "running-frequency",
   "metadata": {},
   "outputs": [
    {
     "data": {
      "text/plain": [
       "100"
      ]
     },
     "execution_count": 1,
     "metadata": {},
     "output_type": "execute_result"
    }
   ],
   "source": [
    "50 + 50"
   ]
  },
  {
   "cell_type": "code",
   "execution_count": 2,
   "id": "written-mentor",
   "metadata": {},
   "outputs": [
    {
     "data": {
      "text/plain": [
       "90"
      ]
     },
     "execution_count": 2,
     "metadata": {},
     "output_type": "execute_result"
    }
   ],
   "source": [
    "100-10"
   ]
  },
  {
   "cell_type": "markdown",
   "id": "accepted-scanner",
   "metadata": {},
   "source": [
    "## 2. 30+*6,6^6,6**6,6+6+6+6+6+6"
   ]
  },
  {
   "cell_type": "code",
   "execution_count": 3,
   "id": "billion-halloween",
   "metadata": {},
   "outputs": [
    {
     "data": {
      "text/plain": [
       "(36, 0, 36, 36)"
      ]
     },
     "execution_count": 3,
     "metadata": {},
     "output_type": "execute_result"
    }
   ],
   "source": [
    "30+6,6^6,6*6,6+6+6+6+6+6"
   ]
  },
  {
   "cell_type": "markdown",
   "id": "unnecessary-upgrade",
   "metadata": {},
   "source": [
    "## 3. Print “Hello World” on the console output. Print output “Hello World : 10”\n"
   ]
  },
  {
   "cell_type": "code",
   "execution_count": 4,
   "id": "agricultural-evaluation",
   "metadata": {},
   "outputs": [
    {
     "name": "stdout",
     "output_type": "stream",
     "text": [
      "Hello World\n",
      "Hellow World : 10\n"
     ]
    }
   ],
   "source": [
    "print(\"Hello World\")\n",
    "print(\"Hellow World : 10\")"
   ]
  },
  {
   "cell_type": "markdown",
   "id": "intense-accent",
   "metadata": {},
   "source": [
    "## 4. mortgage "
   ]
  },
  {
   "cell_type": "code",
   "execution_count": 54,
   "id": "biblical-offer",
   "metadata": {},
   "outputs": [
    {
     "name": "stdout",
     "output_type": "stream",
     "text": [
      "9956\n"
     ]
    }
   ],
   "source": [
    "r = 6\n",
    "p = 800000\n",
    "l = 103\n",
    "\n",
    "r= r/100\n",
    "i = (r/12)\n",
    "i1 = (1+i)**l\n",
    "\n",
    "m = int((p*i*i1)/(i1-1))\n",
    "print(m)\n"
   ]
  },
  {
   "cell_type": "code",
   "execution_count": null,
   "id": "southern-drunk",
   "metadata": {},
   "outputs": [],
   "source": []
  },
  {
   "cell_type": "code",
   "execution_count": null,
   "id": "declared-likelihood",
   "metadata": {},
   "outputs": [],
   "source": []
  }
 ],
 "metadata": {
  "kernelspec": {
   "display_name": "Python 3",
   "language": "python",
   "name": "python3"
  },
  "language_info": {
   "codemirror_mode": {
    "name": "ipython",
    "version": 3
   },
   "file_extension": ".py",
   "mimetype": "text/x-python",
   "name": "python",
   "nbconvert_exporter": "python",
   "pygments_lexer": "ipython3",
   "version": "3.9.1"
  }
 },
 "nbformat": 4,
 "nbformat_minor": 5
}
